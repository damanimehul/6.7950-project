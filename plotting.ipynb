{
 "cells": [
  {
   "cell_type": "code",
   "execution_count": null,
   "metadata": {},
   "outputs": [],
   "source": [
    "import numpy as np \n",
    "\n"
   ]
  },
  {
   "cell_type": "code",
   "execution_count": null,
   "metadata": {},
   "outputs": [],
   "source": [
    "def get_id_from_name(name) : \n",
    "    count =0 \n",
    "    for i,char in enumerate(name) : \n",
    "        if char =='-' : \n",
    "            counts+= 1 \n",
    "        if count ==3 : \n",
    "            j = i+1 \n",
    "            while name[j]!='-' : \n",
    "                j+=1 \n",
    "            id = int(name[i+1:j]) \n",
    "            return id \n",
    "\n",
    "get_id_from_name('tuning-batch-v3-0-s0_2022-12-07')"
   ]
  }
 ],
 "metadata": {
  "language_info": {
   "name": "python"
  },
  "orig_nbformat": 4
 },
 "nbformat": 4,
 "nbformat_minor": 2
}
